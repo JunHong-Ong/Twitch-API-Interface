{
 "cells": [
  {
   "cell_type": "code",
   "execution_count": 2,
   "metadata": {},
   "outputs": [],
   "source": [
    "import time\n",
    "import asyncio\n",
    "import twitch\n",
    "import pandas as pd\n",
    "import json\n",
    "\n",
    "with open(\".credentials/credentials.json\", \"r\") as json_file:\n",
    "    credentials = json.load(json_file)\n",
    "\n",
    "helix = twitch.Helix(credentials[\"client_id\"], credentials[\"client_secret\"])\n",
    "clip_ids = pd.read_csv(\"clips.csv\", index_col=0)[\"id\"]"
   ]
  },
  {
   "cell_type": "code",
   "execution_count": 3,
   "metadata": {},
   "outputs": [
    {
     "name": "stdout",
     "output_type": "stream",
     "text": [
      "('notaninteger',)\n"
     ]
    },
    {
     "ename": "ValueError",
     "evalue": "Video IDs: notaninteger are non-numeric.",
     "output_type": "error",
     "traceback": [
      "\u001b[1;31m---------------------------------------------------------------------------\u001b[0m",
      "\u001b[1;31mValueError\u001b[0m                                Traceback (most recent call last)",
      "Cell \u001b[1;32mIn[3], line 1\u001b[0m\n\u001b[1;32m----> 1\u001b[0m clips \u001b[39m=\u001b[39m \u001b[39mawait\u001b[39;00m helix\u001b[39m.\u001b[39mvideos(\u001b[39m\"\u001b[39m\u001b[39mnotaninteger\u001b[39m\u001b[39m\"\u001b[39m)\n",
      "File \u001b[1;32mc:\\Users\\JunHo\\Documents\\GitHub\\Twitch-API-Interface\\twitch\\helix.py:33\u001b[0m, in \u001b[0;36mHelix.videos\u001b[1;34m(self, *video_ids)\u001b[0m\n\u001b[0;32m     30\u001b[0m non_numeric \u001b[39m=\u001b[39m [ \u001b[39mstr\u001b[39m(video_id) \u001b[39mfor\u001b[39;00m video_id \u001b[39min\u001b[39;00m video_ids\n\u001b[0;32m     31\u001b[0m                 \u001b[39mif\u001b[39;00m \u001b[39misinstance\u001b[39m(video_id, \u001b[39mstr\u001b[39m) \u001b[39mand\u001b[39;00m \u001b[39mnot\u001b[39;00m video_id\u001b[39m.\u001b[39misnumeric() ]\n\u001b[0;32m     32\u001b[0m \u001b[39mif\u001b[39;00m \u001b[39mlen\u001b[39m(non_numeric) \u001b[39m!=\u001b[39m \u001b[39m0\u001b[39m:\n\u001b[1;32m---> 33\u001b[0m     \u001b[39mraise\u001b[39;00m \u001b[39mValueError\u001b[39;00m(\u001b[39mf\u001b[39m\u001b[39m\"\u001b[39m\u001b[39mVideo IDs: \u001b[39m\u001b[39m{\u001b[39;00m\u001b[39m'\u001b[39m\u001b[39m, \u001b[39m\u001b[39m'\u001b[39m\u001b[39m.\u001b[39mjoin(non_numeric)\u001b[39m}\u001b[39;00m\u001b[39m are non-numeric.\u001b[39m\u001b[39m\"\u001b[39m)\n\u001b[0;32m     35\u001b[0m tasks \u001b[39m=\u001b[39m \u001b[39mset\u001b[39m()\n\u001b[0;32m     36\u001b[0m loop \u001b[39m=\u001b[39m asyncio\u001b[39m.\u001b[39mget_event_loop()\n",
      "\u001b[1;31mValueError\u001b[0m: Video IDs: notaninteger are non-numeric."
     ]
    }
   ],
   "source": [
    "clips = await helix.videos(*clip_ids.tolist()*2)"
   ]
  },
  {
   "cell_type": "code",
   "execution_count": null,
   "metadata": {},
   "outputs": [],
   "source": []
  }
 ],
 "metadata": {
  "kernelspec": {
   "display_name": ".venv",
   "language": "python",
   "name": "python3"
  },
  "language_info": {
   "codemirror_mode": {
    "name": "ipython",
    "version": 3
   },
   "file_extension": ".py",
   "mimetype": "text/x-python",
   "name": "python",
   "nbconvert_exporter": "python",
   "pygments_lexer": "ipython3",
   "version": "3.9.13"
  },
  "orig_nbformat": 4
 },
 "nbformat": 4,
 "nbformat_minor": 2
}
